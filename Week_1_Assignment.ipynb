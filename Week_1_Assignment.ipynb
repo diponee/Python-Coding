{
  "nbformat": 4,
  "nbformat_minor": 0,
  "metadata": {
    "colab": {
      "provenance": [],
      "authorship_tag": "ABX9TyM/5gW42yK/cEDem8ICpY4c",
      "include_colab_link": true
    },
    "kernelspec": {
      "name": "python3",
      "display_name": "Python 3"
    },
    "language_info": {
      "name": "python"
    }
  },
  "cells": [
    {
      "cell_type": "markdown",
      "metadata": {
        "id": "view-in-github",
        "colab_type": "text"
      },
      "source": [
        "<a href=\"https://colab.research.google.com/github/diponee/Python-Coding/blob/main/Week_1_Assignment.ipynb\" target=\"_parent\"><img src=\"https://colab.research.google.com/assets/colab-badge.svg\" alt=\"Open In Colab\"/></a>"
      ]
    },
    {
      "cell_type": "markdown",
      "source": [
        "1. Write a program to find all the vowels present in the sentence \"Python programming is fun\" using a set"
      ],
      "metadata": {
        "id": "zPKTcqonKzlb"
      }
    },
    {
      "cell_type": "code",
      "source": [
        "#Write a program to find all the vowels present in the sentence \"Python programming is fun\" using a set\n",
        "\n",
        "sentence = \"Python programming is fun\"\n",
        "def find_vowels(sentence):\n",
        "  vowels = {'a', 'e', 'i', 'o', 'u'}\n",
        "  found_vowels = {char for char in sentence.lower() if char in vowels}\n",
        "  return found_vowels\n",
        "vowels_in_sentence = find_vowels(sentence)\n",
        "print(f\"Vowels in the sentence: {vowels_in_sentence}\")"
      ],
      "metadata": {
        "colab": {
          "base_uri": "https://localhost:8080/"
        },
        "id": "CSbJLEnC_4vd",
        "outputId": "ea9f3e64-eea0-4d3b-95b8-6451dd3dea02"
      },
      "execution_count": 5,
      "outputs": [
        {
          "output_type": "stream",
          "name": "stdout",
          "text": [
            "Vowels in the sentence: {'i', 'o', 'a', 'u'}\n"
          ]
        }
      ]
    },
    {
      "cell_type": "markdown",
      "source": [
        "2. Write a program to count how many numbers between 1 and 1000 are divisible by both 7 and 11"
      ],
      "metadata": {
        "id": "CgBXxJfiKgaF"
      }
    },
    {
      "cell_type": "code",
      "source": [
        "#Write a program to count how many numbers between 1 and 1000 are divisible by both 7 and 11\n",
        "count = 1\n",
        "for num in range (1, 1001):\n",
        "  if num % 7 == 0 and num % 11 == 0:\n",
        "    count += 1\n",
        "print(f\"There are {count} numbers between 1 and 1000 that are divisible by both 7 and 11.\")"
      ],
      "metadata": {
        "colab": {
          "base_uri": "https://localhost:8080/"
        },
        "id": "_656AFHwDpDg",
        "outputId": "c090ec4a-244d-444e-e6f2-9a0847230136"
      },
      "execution_count": 1,
      "outputs": [
        {
          "output_type": "stream",
          "name": "stdout",
          "text": [
            "There are 13 numbers between 1 and 1000 that are divisible by both 7 and 11.\n"
          ]
        }
      ]
    },
    {
      "cell_type": "markdown",
      "source": [
        "3. Create a dictionary where the keys are numbers from 1 to 5, and the values are the squares of the keys. Output: {1: 1, 2: 4, 3: 9, 4: 16, 5: 25}"
      ],
      "metadata": {
        "id": "YROaPrH1LkgS"
      }
    },
    {
      "cell_type": "code",
      "source": [
        "#3. Create a dictionary where the keys are numbers from 1 to 5, and the values are the squares of the keys. Output: {1: 1, 2: 4, 3: 9, 4: 16, 5: 25}\n",
        "num_square = {num: num**2 for num in range(1, 6)}\n",
        "print(num_square)"
      ],
      "metadata": {
        "colab": {
          "base_uri": "https://localhost:8080/"
        },
        "id": "Ka7kGTwsD_uu",
        "outputId": "64562716-9239-4013-eed6-970deb687e77"
      },
      "execution_count": 9,
      "outputs": [
        {
          "output_type": "stream",
          "name": "stdout",
          "text": [
            "{1: 1, 2: 4, 3: 9, 4: 16, 5: 25}\n"
          ]
        }
      ]
    },
    {
      "cell_type": "markdown",
      "source": [],
      "metadata": {
        "id": "AV7ojja9LRvf"
      }
    },
    {
      "cell_type": "code",
      "source": [],
      "metadata": {
        "id": "jC9RVa4NLaJK"
      },
      "execution_count": null,
      "outputs": []
    }
  ]
}