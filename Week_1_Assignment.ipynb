{
  "nbformat": 4,
  "nbformat_minor": 0,
  "metadata": {
    "colab": {
      "provenance": [],
      "authorship_tag": "ABX9TyOFMH5dpmV4Z4ikXele9KHr",
      "include_colab_link": true
    },
    "kernelspec": {
      "name": "python3",
      "display_name": "Python 3"
    },
    "language_info": {
      "name": "python"
    }
  },
  "cells": [
    {
      "cell_type": "markdown",
      "metadata": {
        "id": "view-in-github",
        "colab_type": "text"
      },
      "source": [
        "<a href=\"https://colab.research.google.com/github/diponee/Python-Coding/blob/main/Week_1_Assignment.ipynb\" target=\"_parent\"><img src=\"https://colab.research.google.com/assets/colab-badge.svg\" alt=\"Open In Colab\"/></a>"
      ]
    },
    {
      "cell_type": "markdown",
      "source": [
        "sentence = \"Python programming is fun\"\n",
        "def find_vowels(sentence):\n",
        "  vowels = {'a', 'e', 'i', 'o', 'u'}\n",
        "  found_vowels = {char for char in sentence.lower() if char in vowels}\n",
        "  return found_vowels\n",
        "vowels_in_sentence = find_vowels(sentence)\n",
        "print(f\"Vowels in the sentence: {vowels_in_sentence}\")"
      ],
      "metadata": {
        "id": "xMIgfomT_MKK"
      }
    },
    {
      "cell_type": "code",
      "source": [
        "sentence = \"Python programming is fun\"\n",
        "def find_vowels(sentence):\n",
        "  vowels = {'a', 'e', 'i', 'o', 'u'}\n",
        "  found_vowels = {char for char in sentence.lower() if char in vowels}\n",
        "  return found_vowels\n",
        "vowels_in_sentence = find_vowels(sentence)\n",
        "print(f\"Vowels in the sentence: {vowels_in_sentence}\")"
      ],
      "metadata": {
        "colab": {
          "base_uri": "https://localhost:8080/"
        },
        "id": "CSbJLEnC_4vd",
        "outputId": "ea9f3e64-eea0-4d3b-95b8-6451dd3dea02"
      },
      "execution_count": 5,
      "outputs": [
        {
          "output_type": "stream",
          "name": "stdout",
          "text": [
            "Vowels in the sentence: {'i', 'o', 'a', 'u'}\n"
          ]
        }
      ]
    },
    {
      "cell_type": "code",
      "source": [
        "count = 0\n",
        "for num in range (1, 1001):\n",
        "  if num % 7 == 0 and num % 11 == 0:\n",
        "    count += 1\n",
        "print(f\"There are {count} numbers between 1 and 1000 that are divisible by both 7 and 11.\")"
      ],
      "metadata": {
        "colab": {
          "base_uri": "https://localhost:8080/"
        },
        "id": "_656AFHwDpDg",
        "outputId": "55e9e2ff-fa6d-4352-dade-9413e25112e7"
      },
      "execution_count": 7,
      "outputs": [
        {
          "output_type": "stream",
          "name": "stdout",
          "text": [
            "There are 12 numbers between 1 and 1000 that are divisible by 7 and 11.\n"
          ]
        }
      ]
    },
    {
      "cell_type": "code",
      "source": [
        "num_square = {num: num**2 for num in range(1, 6)}\n",
        "print(num_square)"
      ],
      "metadata": {
        "colab": {
          "base_uri": "https://localhost:8080/"
        },
        "id": "Ka7kGTwsD_uu",
        "outputId": "64562716-9239-4013-eed6-970deb687e77"
      },
      "execution_count": 9,
      "outputs": [
        {
          "output_type": "stream",
          "name": "stdout",
          "text": [
            "{1: 1, 2: 4, 3: 9, 4: 16, 5: 25}\n"
          ]
        }
      ]
    }
  ]
}